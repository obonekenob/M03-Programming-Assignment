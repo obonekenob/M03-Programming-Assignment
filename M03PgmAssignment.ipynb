{
 "cells": [
  {
   "cell_type": "code",
   "execution_count": 50,
   "id": "a6c8dbe0",
   "metadata": {},
   "outputs": [
    {
     "name": "stdout",
     "output_type": "stream",
     "text": [
      "['mozzarella', 'cinderella', 'salmonella']\n"
     ]
    }
   ],
   "source": [
    "#  Problem 7.4\n",
    "#   Paul R. Thompson\n",
    "#   SDEV220 \n",
    "\n",
    "things = [\"mozzarella\", \"cinderella\", \"salmonella\"]\n",
    "print(things)\n"
   ]
  },
  {
   "cell_type": "code",
   "execution_count": 46,
   "id": "2744c92c",
   "metadata": {
    "scrolled": true
   },
   "outputs": [
    {
     "name": "stdout",
     "output_type": "stream",
     "text": [
      "Cinderella\n"
     ]
    }
   ],
   "source": [
    "#  Problem 7.5 - Part one\n",
    "#   Paul R. Thompson\n",
    "#   SDEV220\n",
    "\n",
    "print(things[1].capitalize())  #display capitalzed word but does not change it in the list\n"
   ]
  },
  {
   "cell_type": "code",
   "execution_count": 47,
   "id": "bff27e62",
   "metadata": {},
   "outputs": [
    {
     "name": "stdout",
     "output_type": "stream",
     "text": [
      "['mozzarella', 'cinderella', 'salmonella']\n"
     ]
    }
   ],
   "source": [
    "#  Problem 7.5 - Part two\n",
    "#   Paul R. Thompson\n",
    "#   SDEV220\n",
    "\n",
    "print(things)  #display shows word is not changed in the list\n"
   ]
  },
  {
   "cell_type": "code",
   "execution_count": 51,
   "id": "fc0e1101",
   "metadata": {},
   "outputs": [
    {
     "name": "stdout",
     "output_type": "stream",
     "text": [
      "['mozzarella', 'Cinderella', 'salmonella']\n"
     ]
    }
   ],
   "source": [
    "#  Problem 7.5 - Part three\n",
    "#   Paul R. Thompson\n",
    "#   SDEV220\n",
    "\n",
    "things[1] = things[1].capitalize()  #changes word in list because of assignment\n",
    "\n",
    "print(things)\n",
    "\n"
   ]
  },
  {
   "cell_type": "code",
   "execution_count": 52,
   "id": "f13f619a",
   "metadata": {},
   "outputs": [
    {
     "name": "stdout",
     "output_type": "stream",
     "text": [
      "['MOZZARELLA', 'Cinderella', 'salmonella']\n"
     ]
    }
   ],
   "source": [
    "#  Problem 7.6\n",
    "#   Paul R. Thompson\n",
    "#   SDEV220 \n",
    "\n",
    "#things = [\"mozzarella\", \"cinderella\", \"salmonella\"]\n",
    "\n",
    "things[0] = things[0].upper()\n",
    "print(things)\n"
   ]
  },
  {
   "cell_type": "code",
   "execution_count": 53,
   "id": "4aacb110",
   "metadata": {},
   "outputs": [
    {
     "name": "stdout",
     "output_type": "stream",
     "text": [
      "['MOZZARELLA', 'Cinderella']\n"
     ]
    }
   ],
   "source": [
    "#  Problem 7.7\n",
    "#   Paul R. Thompson\n",
    "#   SDEV220 \n",
    "\n",
    "#things = [\"mozzarella\", \"cinderella\", \"salmonella\"]\n",
    "\n",
    "things.remove(\"salmonella\")\n",
    "print(things)\n"
   ]
  },
  {
   "cell_type": "code",
   "execution_count": 6,
   "id": "95e46f88",
   "metadata": {},
   "outputs": [
    {
     "name": "stdout",
     "output_type": "stream",
     "text": [
      "['Harry', 'Ron', 'Hermione']\n"
     ]
    }
   ],
   "source": [
    "#  Problem 9.1\n",
    "#   Paul R. Thompson\n",
    "#   SDEV220 \n",
    "\n",
    "def good():\n",
    "    return ['Harry', 'Ron', 'Hermione'] #list returned when function good() called\n",
    "\n",
    "print(good()) # Print the list from function good()\n",
    "\n"
   ]
  },
  {
   "cell_type": "code",
   "execution_count": 7,
   "id": "40561280",
   "metadata": {},
   "outputs": [
    {
     "name": "stdout",
     "output_type": "stream",
     "text": [
      "The third odd number is:  5\n"
     ]
    }
   ],
   "source": [
    "#  Problem 9.2\n",
    "#   Paul R. Thompson\n",
    "#   SDEV220 \n",
    "\n",
    "# Define a generator function\n",
    "def get_odds():\n",
    "    for number in range(1, 10, 2):  #Get all odd numbers from one to ten\n",
    "        yield number\n",
    "        \n",
    "count = 1\n",
    "for number in get_odds(): #Call the function for an odd number\n",
    "    if count == 3:\n",
    "        print(\"The third odd number is: \", number) # Print the third odd number\n",
    "        break\n",
    "    count += 1  # Increment the counter for odd numbers\n",
    "    "
   ]
  },
  {
   "cell_type": "code",
   "execution_count": null,
   "id": "45f05987",
   "metadata": {},
   "outputs": [],
   "source": []
  }
 ],
 "metadata": {
  "kernelspec": {
   "display_name": "Python 3 (ipykernel)",
   "language": "python",
   "name": "python3"
  },
  "language_info": {
   "codemirror_mode": {
    "name": "ipython",
    "version": 3
   },
   "file_extension": ".py",
   "mimetype": "text/x-python",
   "name": "python",
   "nbconvert_exporter": "python",
   "pygments_lexer": "ipython3",
   "version": "3.9.13"
  }
 },
 "nbformat": 4,
 "nbformat_minor": 5
}
